{
 "cells": [
  {
   "cell_type": "code",
   "execution_count": 7,
   "metadata": {
    "collapsed": true
   },
   "outputs": [],
   "source": [
    "import numpy as np\n",
    "import cv2\n",
    "import math"
   ]
  },
  {
   "cell_type": "code",
   "execution_count": 3,
   "metadata": {
    "collapsed": true
   },
   "outputs": [],
   "source": [
    "task = 'Train'\n",
    "cr =5"
   ]
  },
  {
   "cell_type": "code",
   "execution_count": 5,
   "metadata": {
    "collapsed": true
   },
   "outputs": [],
   "source": [
    "size_input = 32;\n",
    "size_label = 32;\n",
    "crop = 18;\n",
    "stride = size_input;"
   ]
  },
  {
   "cell_type": "code",
   "execution_count": null,
   "metadata": {
    "collapsed": true
   },
   "outputs": [],
   "source": [
    "def generateKeyCNNData(task,cr):\n",
    "    \n",
    "    if (cr == 1):\n",
    "        phi = zeros(1024, 1)\n",
    "    elif\n",
    "        dataFile = './phi/phi_cr'+ str(cr) + '.npy'\n",
    "        phi = np.load(dataFile)\n",
    "        phi = np.dot(phi.T,phi)\n",
    "\n",
    "folder = './datasets/UCF101/'+ task +'Data/0.25_196/'\n",
    "savepath = './training/data/'+ task +'DataCNN_'+ str(cr) +'.h5'\n",
    "\n",
    "data = np.zeros((204, 1, 837925))\n",
    "label = np.zeros((size_label, size_label, 837925))\n",
    "count = 0\n",
    "cnt= []\n",
    "\n",
    "for filepaths in os.listdir(folder):\n",
    "    cnt.append(filepaths)\n",
    "\n",
    "\n",
    "    \n",
    "for i in range(len(cnt)):\n",
    "    image = cv2.imread(os.path.join(folder,cnt[i]))\n",
    "    image = cv2.cvtColor(image,cv2.COLOR_RGB2YCR_CB)\n",
    "    image = image[:, :, 1]\n",
    "    image = cv2.normalize(image.astype('float'), None, 0.0, 1.0, cv2.NORM_MINMAX)\n",
    "    rawImg = image[crop:-crop,crop:-crop]\n",
    "    im_label = rawImg;\n",
    "    [hei,wid] = im_label.shape\n",
    "    print i\n",
    "\n",
    "    for x in range(1 , hei-size_input, stride):\n",
    "        for y in range(1 , wid-size_input, stride):\n",
    "            subim_input = im_label[x : x+size_input, y : y+size_input]\n",
    "            subim_input = subim_input.reshape(1024,1)\n",
    "            if (cr == 1):\n",
    "                subim_input =  subim_input[:]\n",
    "            else:\n",
    "                subim_input = np.matmul(phi,subim_input)\n",
    "                print subim_input.shape\n",
    "\n",
    "\n",
    "            subim_label = im_label[x : x+size_label, y : y+size_label]\n",
    "            print subim_label.shape\n",
    "            count=count+1\n",
    "            data[:, :, count] = subim_input\n",
    "            label[:, :, count] = subim_label\n",
    "    print str(i/len(cnt)*100)+'%'\n",
    "\n",
    "\n",
    "order = np.random.permutation(count)\n",
    "data = data[:, :, order]\n",
    "label = label[:, :, order]\n",
    "\n",
    "##writing to HDF5\n",
    "\n",
    "chunksz = 128\n",
    "created_flag = false\n",
    "totalct = 0\n",
    "\n",
    "for batchno in range(math.floor(count/chunksz)):\n",
    "    \n",
    "    last_read=(batchno-1)*chunksz\n",
    "    batchdata = data[:,:,last_read+1:last_read+chunksz]\n",
    "    batchlabs = label[:,:,last_read+1:last_read+chunksz]\n",
    "\n",
    "    startloc = ('dat',[1,1,totalct+1], 'lab', [1,1,totalct+1]);\n",
    "    curr_dat_sz = store2hdf5(savepath, batchdata, batchlabs, ~created_flag, startloc, chunksz);\n",
    "    created_flag = true;\n",
    "    totalct = curr_dat_sz(end);\n",
    "end\n",
    "h5disp(savepath);\n",
    "end"
   ]
  }
 ],
 "metadata": {
  "kernelspec": {
   "display_name": "tensorflow",
   "language": "python",
   "name": "tensorflow"
  },
  "language_info": {
   "codemirror_mode": {
    "name": "ipython",
    "version": 2
   },
   "file_extension": ".py",
   "mimetype": "text/x-python",
   "name": "python",
   "nbconvert_exporter": "python",
   "pygments_lexer": "ipython2",
   "version": "2.7.12"
  }
 },
 "nbformat": 4,
 "nbformat_minor": 2
}
